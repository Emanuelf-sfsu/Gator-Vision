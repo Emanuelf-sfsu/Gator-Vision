{
 "cells": [
  {
   "cell_type": "code",
   "execution_count": 4,
   "id": "1aea806b",
   "metadata": {},
   "outputs": [
    {
     "ename": "ModuleNotFoundError",
     "evalue": "No module named 'tensorflow.lite.support'",
     "output_type": "error",
     "traceback": [
      "\u001b[0;31m---------------------------------------------------------------------------\u001b[0m",
      "\u001b[0;31mModuleNotFoundError\u001b[0m                       Traceback (most recent call last)",
      "\u001b[0;32m/tmp/ipykernel_109268/2820941847.py\u001b[0m in \u001b[0;36m<module>\u001b[0;34m\u001b[0m\n\u001b[1;32m      1\u001b[0m \u001b[0;32mimport\u001b[0m \u001b[0mtensorflow\u001b[0m \u001b[0;32mas\u001b[0m \u001b[0mtf\u001b[0m\u001b[0;34m\u001b[0m\u001b[0;34m\u001b[0m\u001b[0m\n\u001b[0;32m----> 2\u001b[0;31m \u001b[0;32mfrom\u001b[0m \u001b[0mtensorflow\u001b[0m\u001b[0;34m.\u001b[0m\u001b[0mlite\u001b[0m\u001b[0;34m.\u001b[0m\u001b[0msupport\u001b[0m\u001b[0;34m.\u001b[0m\u001b[0mmetadata\u001b[0m \u001b[0;32mimport\u001b[0m \u001b[0mmetadata\u001b[0m \u001b[0;32mas\u001b[0m \u001b[0m_metadata\u001b[0m\u001b[0;34m\u001b[0m\u001b[0;34m\u001b[0m\u001b[0m\n\u001b[0m\u001b[1;32m      3\u001b[0m \u001b[0;34m\u001b[0m\u001b[0m\n\u001b[1;32m      4\u001b[0m \u001b[0;31m# Define labels\u001b[0m\u001b[0;34m\u001b[0m\u001b[0;34m\u001b[0m\u001b[0m\n\u001b[1;32m      5\u001b[0m \u001b[0mlabels\u001b[0m \u001b[0;34m=\u001b[0m \u001b[0;34m[\u001b[0m\u001b[0;34m'cat'\u001b[0m\u001b[0;34m,\u001b[0m \u001b[0;34m'dog'\u001b[0m\u001b[0;34m,\u001b[0m \u001b[0;34m'bird'\u001b[0m\u001b[0;34m]\u001b[0m\u001b[0;34m\u001b[0m\u001b[0;34m\u001b[0m\u001b[0m\n",
      "\u001b[0;31mModuleNotFoundError\u001b[0m: No module named 'tensorflow.lite.support'"
     ]
    }
   ],
   "source": [
    "import tensorflow as tf\n",
    "from tensorflow.lite.support.metadata import metadata as _metadata\n",
    "\n",
    "# Define labels\n",
    "labels = ['cat', 'dog', 'bird']\n",
    "\n",
    "# Create a metadata object\n",
    "model_meta = _metadata.Metadata()\n",
    "model_meta.default_input_handler = {'dtype': 'float32',\n",
    "                                    'shape': [1, 224, 224, 3],\n",
    "                                    'name': 'image_input'}\n",
    "\n",
    "# Create a category description for the labels\n",
    "label_meta = _metadata.fb_metadata_fb.CategoryMetadata()\n",
    "label_meta.create_from_metadata({\n",
    "    'keys': [str(i) for i in range(len(labels))],\n",
    "    'values': [{'name': label} for label in labels],\n",
    "})\n",
    "model_meta.metadata['output_0'] = _metadata.Metadata.create_metadata([label_meta])\n",
    "\n",
    "# Save the metadata to a file\n",
    "with open('labels_metadata.tflite', 'wb') as f:\n",
    "    f.write(model_meta.serialize_to_tflite())\n"
   ]
  },
  {
   "cell_type": "code",
   "execution_count": null,
   "id": "980ca19a",
   "metadata": {},
   "outputs": [],
   "source": []
  }
 ],
 "metadata": {
  "kernelspec": {
   "display_name": "Python 3 (ipykernel)",
   "language": "python",
   "name": "python3"
  },
  "language_info": {
   "codemirror_mode": {
    "name": "ipython",
    "version": 3
   },
   "file_extension": ".py",
   "mimetype": "text/x-python",
   "name": "python",
   "nbconvert_exporter": "python",
   "pygments_lexer": "ipython3",
   "version": "3.9.13"
  }
 },
 "nbformat": 4,
 "nbformat_minor": 5
}
