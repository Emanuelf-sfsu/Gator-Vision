{
 "cells": [
  {
   "cell_type": "markdown",
   "id": "de17d11e",
   "metadata": {},
   "source": [
    "# EfficientNet-Lite4 - Transferred Learning\n",
    "\n",
    "---\n",
    "Link to TensorFlow Hub\n",
    "https://tfhub.dev/tensorflow/efficientnet/lite4/classification/2"
   ]
  },
  {
   "cell_type": "code",
   "execution_count": null,
   "id": "c938b230",
   "metadata": {},
   "outputs": [],
   "source": [
    "import tensorflow as tf\n",
    "import tensorflow_hub as hub\n",
    "from tensorflow import keras\n",
    "from tensorflow.keras.layers import Dense, GlobalAveragePooling2D\n",
    "from tensorflow.keras.models import Sequential\n",
    "import pathlib\n"
   ]
  },
  {
   "cell_type": "code",
   "execution_count": null,
   "id": "bf0a24a4",
   "metadata": {},
   "outputs": [],
   "source": [
    "num_classes = 6\n",
    "# Load the EfficientNet-Lite model from TensorFlow Hub\n",
    "module_url = \"https://tfhub.dev/tensorflow/efficientnet/lite4/classification/2\"\n",
    "model = Sequential([\n",
    "    hub.KerasLayer(module_url, trainable=False, input_shape=(260, 260, 3)),\n",
    "    Dense(num_classes, activation='softmax')\n",
    "])"
   ]
  },
  {
   "cell_type": "code",
   "execution_count": null,
   "id": "24ab8207",
   "metadata": {},
   "outputs": [],
   "source": []
  },
  {
   "cell_type": "code",
   "execution_count": null,
   "id": "6378006b",
   "metadata": {},
   "outputs": [],
   "source": [
    "data_dir = '../SFSU_Art'\n",
    "data_dir = pathlib.Path(data_dir)\n",
    "#print(data_dir)"
   ]
  },
  {
   "cell_type": "code",
   "execution_count": null,
   "id": "dd517870",
   "metadata": {},
   "outputs": [],
   "source": [
    "batch_size = 32\n",
    "img_height = 260\n",
    "img_width = 260\n",
    "\n",
    "# Training data  \n",
    "train_ds = tf.keras.utils.image_dataset_from_directory(\n",
    "  data_dir,\n",
    "  validation_split=0.2,\n",
    "  subset=\"training\",\n",
    "  seed=123,\n",
    "  image_size=(img_height, img_width),\n",
    "  batch_size=batch_size)\n",
    "\n",
    "#Validation Data\n",
    "val_ds = tf.keras.utils.image_dataset_from_directory(\n",
    "  data_dir,\n",
    "  validation_split=0.2,\n",
    "  subset=\"validation\",\n",
    "  seed=123,\n",
    "  image_size=(img_height, img_width),\n",
    "  batch_size=batch_size)\n",
    "\n",
    "train_classnames = train_ds.class_names\n",
    "#with open('./models/label.txt', 'w') as f:\n",
    "#    f.writelines(str(item) + '\\n' for item in class_names)\n",
    "\n"
   ]
  },
  {
   "cell_type": "markdown",
   "id": "68e8a77a",
   "metadata": {},
   "source": [
    "# Fixing the number output shape\n",
    "\n",
    "---\n"
   ]
  },
  {
   "cell_type": "code",
   "execution_count": null,
   "id": "3cb7f8b7",
   "metadata": {},
   "outputs": [],
   "source": [
    "# get the configuration of the final layer\n",
    "output_layer_config = output_layer.get_config()\n",
    "\n",
    "# print the configuration\n",
    "print(output_layer_config)\n",
    "\n",
    "# get the output layer of the model\n",
    "output_layer = model.layers[-1]\n",
    "\n",
    "\n",
    "# create a new input layer with 1 unit\n",
    "new_input_layer = Dense(1)(output_layer.output)\n",
    "\n",
    "# create a new output layer with the desired number of units and activation function\n",
    "new_output_layer = Dense(6, activation='softmax')(output_layer.output)\n",
    "\n",
    "# create a new model with the same input and all layers except the original output layer\n",
    "new_model = keras.Model(inputs=model.input, outputs=new_output_layer, name='new_model')\n"
   ]
  },
  {
   "cell_type": "code",
   "execution_count": null,
   "id": "daaae9c1",
   "metadata": {},
   "outputs": [],
   "source": [
    "# Compile the model with a categorical crossentropy loss function and an Adam optimizer\n",
    "new_model.compile(loss='categorical_crossentropy', optimizer='adam', metrics=['accuracy'])\n",
    "new_model.summary()\n"
   ]
  },
  {
   "cell_type": "code",
   "execution_count": null,
   "id": "3eaaff7a",
   "metadata": {},
   "outputs": [],
   "source": [
    "# print the configuration of the previous layer\n",
    "previous_layer_config = model.layers[-2].get_config()\n",
    "print(previous_layer_config)\n"
   ]
  },
  {
   "cell_type": "code",
   "execution_count": null,
   "id": "0d130758",
   "metadata": {},
   "outputs": [],
   "source": [
    "# Train the model on a new dataset\n",
    "epochs = 15\n",
    "history = new_model.fit(\n",
    "  train_ds,\n",
    "  validation_data=val_ds,\n",
    "  epochs=epochs\n",
    ")"
   ]
  },
  {
   "cell_type": "code",
   "execution_count": null,
   "id": "1f4be378",
   "metadata": {},
   "outputs": [],
   "source": []
  }
 ],
 "metadata": {
  "kernelspec": {
   "display_name": "Python 3 (ipykernel)",
   "language": "python",
   "name": "python3"
  },
  "language_info": {
   "codemirror_mode": {
    "name": "ipython",
    "version": 3
   },
   "file_extension": ".py",
   "mimetype": "text/x-python",
   "name": "python",
   "nbconvert_exporter": "python",
   "pygments_lexer": "ipython3",
   "version": "3.10.8"
  }
 },
 "nbformat": 4,
 "nbformat_minor": 5
}
